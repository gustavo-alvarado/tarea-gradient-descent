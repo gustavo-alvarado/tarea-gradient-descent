{
 "cells": [
  {
   "cell_type": "markdown",
   "metadata": {
    "colab_type": "text",
    "id": "pAbXHpzMjw3N"
   },
   "source": [
    "# Tarea Gradient Descent y Tensorboard\n",
    "#### Gustavo Alvarado\n",
    "#### Carnet # 20063401"
   ]
  },
  {
   "cell_type": "code",
   "execution_count": 1,
   "metadata": {
    "colab": {},
    "colab_type": "code",
    "id": "ogn7jHzmjw3O"
   },
   "outputs": [],
   "source": [
    "import numpy as np\n",
    "import matplotlib.pyplot as plt\n",
    "import pandas as pd\n",
    "import tensorflow as tf\n",
    "from datetime import datetime"
   ]
  },
  {
   "cell_type": "code",
   "execution_count": 3,
   "metadata": {},
   "outputs": [
    {
     "name": "stdout",
     "output_type": "stream",
     "text": [
      "Enabled compatitility to tf1.x\n"
     ]
    }
   ],
   "source": [
    "if tf.__version__.startswith(\"2.\"):\n",
    "    import tensorflow.compat.v1 as tf\n",
    "    tf.compat.v1.disable_v2_behavior()\n",
    "    tf.compat.v1.disable_eager_execution()\n",
    "    print(\"Enabled compatitility to tf1.x\")"
   ]
  },
  {
   "cell_type": "code",
   "execution_count": 4,
   "metadata": {
    "colab": {
     "base_uri": "https://localhost:8080/",
     "height": 419
    },
    "colab_type": "code",
    "id": "r7egzRB3jw3S",
    "outputId": "3da3a135-3ed1-43e6-c671-1be8a3e8d7bf"
   },
   "outputs": [
    {
     "data": {
      "text/html": [
       "<div>\n",
       "<style scoped>\n",
       "    .dataframe tbody tr th:only-of-type {\n",
       "        vertical-align: middle;\n",
       "    }\n",
       "\n",
       "    .dataframe tbody tr th {\n",
       "        vertical-align: top;\n",
       "    }\n",
       "\n",
       "    .dataframe thead th {\n",
       "        text-align: right;\n",
       "    }\n",
       "</style>\n",
       "<table border=\"1\" class=\"dataframe\">\n",
       "  <thead>\n",
       "    <tr style=\"text-align: right;\">\n",
       "      <th></th>\n",
       "      <th>SalePrice</th>\n",
       "      <th>OverallQual</th>\n",
       "      <th>1stFlrSF</th>\n",
       "      <th>TotRmsAbvGrd</th>\n",
       "      <th>YearBuilt</th>\n",
       "      <th>LotFrontage</th>\n",
       "    </tr>\n",
       "  </thead>\n",
       "  <tbody>\n",
       "    <tr>\n",
       "      <td>0</td>\n",
       "      <td>208.500</td>\n",
       "      <td>7.0</td>\n",
       "      <td>856.0</td>\n",
       "      <td>8.0</td>\n",
       "      <td>2003.0</td>\n",
       "      <td>65.0</td>\n",
       "    </tr>\n",
       "    <tr>\n",
       "      <td>1</td>\n",
       "      <td>181.500</td>\n",
       "      <td>6.0</td>\n",
       "      <td>1262.0</td>\n",
       "      <td>6.0</td>\n",
       "      <td>1976.0</td>\n",
       "      <td>80.0</td>\n",
       "    </tr>\n",
       "    <tr>\n",
       "      <td>2</td>\n",
       "      <td>223.500</td>\n",
       "      <td>7.0</td>\n",
       "      <td>920.0</td>\n",
       "      <td>6.0</td>\n",
       "      <td>2001.0</td>\n",
       "      <td>68.0</td>\n",
       "    </tr>\n",
       "    <tr>\n",
       "      <td>3</td>\n",
       "      <td>140.000</td>\n",
       "      <td>7.0</td>\n",
       "      <td>961.0</td>\n",
       "      <td>7.0</td>\n",
       "      <td>1915.0</td>\n",
       "      <td>60.0</td>\n",
       "    </tr>\n",
       "    <tr>\n",
       "      <td>4</td>\n",
       "      <td>250.000</td>\n",
       "      <td>8.0</td>\n",
       "      <td>1145.0</td>\n",
       "      <td>9.0</td>\n",
       "      <td>2000.0</td>\n",
       "      <td>84.0</td>\n",
       "    </tr>\n",
       "    <tr>\n",
       "      <td>...</td>\n",
       "      <td>...</td>\n",
       "      <td>...</td>\n",
       "      <td>...</td>\n",
       "      <td>...</td>\n",
       "      <td>...</td>\n",
       "      <td>...</td>\n",
       "    </tr>\n",
       "    <tr>\n",
       "      <td>1163</td>\n",
       "      <td>108.959</td>\n",
       "      <td>4.0</td>\n",
       "      <td>1258.0</td>\n",
       "      <td>6.0</td>\n",
       "      <td>1969.0</td>\n",
       "      <td>60.0</td>\n",
       "    </tr>\n",
       "    <tr>\n",
       "      <td>1164</td>\n",
       "      <td>194.000</td>\n",
       "      <td>5.0</td>\n",
       "      <td>1432.0</td>\n",
       "      <td>5.0</td>\n",
       "      <td>1978.0</td>\n",
       "      <td>NaN</td>\n",
       "    </tr>\n",
       "    <tr>\n",
       "      <td>1165</td>\n",
       "      <td>233.170</td>\n",
       "      <td>7.0</td>\n",
       "      <td>1502.0</td>\n",
       "      <td>7.0</td>\n",
       "      <td>2009.0</td>\n",
       "      <td>79.0</td>\n",
       "    </tr>\n",
       "    <tr>\n",
       "      <td>1166</td>\n",
       "      <td>245.350</td>\n",
       "      <td>8.0</td>\n",
       "      <td>1694.0</td>\n",
       "      <td>7.0</td>\n",
       "      <td>2008.0</td>\n",
       "      <td>64.0</td>\n",
       "    </tr>\n",
       "    <tr>\n",
       "      <td>1167</td>\n",
       "      <td>173.000</td>\n",
       "      <td>6.0</td>\n",
       "      <td>959.0</td>\n",
       "      <td>7.0</td>\n",
       "      <td>2000.0</td>\n",
       "      <td>58.0</td>\n",
       "    </tr>\n",
       "  </tbody>\n",
       "</table>\n",
       "<p>1168 rows × 6 columns</p>\n",
       "</div>"
      ],
      "text/plain": [
       "      SalePrice  OverallQual  1stFlrSF  TotRmsAbvGrd  YearBuilt  LotFrontage\n",
       "0       208.500          7.0     856.0           8.0     2003.0         65.0\n",
       "1       181.500          6.0    1262.0           6.0     1976.0         80.0\n",
       "2       223.500          7.0     920.0           6.0     2001.0         68.0\n",
       "3       140.000          7.0     961.0           7.0     1915.0         60.0\n",
       "4       250.000          8.0    1145.0           9.0     2000.0         84.0\n",
       "...         ...          ...       ...           ...        ...          ...\n",
       "1163    108.959          4.0    1258.0           6.0     1969.0         60.0\n",
       "1164    194.000          5.0    1432.0           5.0     1978.0          NaN\n",
       "1165    233.170          7.0    1502.0           7.0     2009.0         79.0\n",
       "1166    245.350          8.0    1694.0           7.0     2008.0         64.0\n",
       "1167    173.000          6.0     959.0           7.0     2000.0         58.0\n",
       "\n",
       "[1168 rows x 6 columns]"
      ]
     },
     "execution_count": 4,
     "metadata": {},
     "output_type": "execute_result"
    }
   ],
   "source": [
    "#Configuraciones de visualización\n",
    "np.set_printoptions(suppress = True)\n",
    "\n",
    "#Cargando data\n",
    "import io\n",
    "datos = np.load('Data/proyecto_training_data.npy')\n",
    "\n",
    "#Escalando precio\n",
    "datos[0:, 0] = datos[0:, 0] / 1000\n",
    "\n",
    "#Datos de entrenamiento - 80%\n",
    "datosEntrenamiento = datos[0 : int(len(datos) * 0.80), ]\n",
    "\n",
    "#Datos de prueba - 20%\n",
    "datosPrueba = datos[int(len(datos) * 0.20): , ]\n",
    "\n",
    "dfEntrenamiento = pd.DataFrame(datosEntrenamiento, columns = ['SalePrice', 'OverallQual', '1stFlrSF', 'TotRmsAbvGrd', 'YearBuilt', 'LotFrontage'])\n",
    "dfPrueba = pd.DataFrame(datosPrueba, columns = ['SalePrice', 'OverallQual', '1stFlrSF', 'TotRmsAbvGrd', 'YearBuilt', 'LotFrontage'])\n",
    "\n",
    "dfEntrenamiento\n"
   ]
  },
  {
   "cell_type": "code",
   "execution_count": 5,
   "metadata": {
    "colab": {
     "base_uri": "https://localhost:8080/",
     "height": 295
    },
    "colab_type": "code",
    "id": "f-JLcL91jw3V",
    "outputId": "2224da07-89c1-487c-b953-cd2227090a59"
   },
   "outputs": [
    {
     "data": {
      "image/png": "[encoded data removed]",
      "text/plain": [
       "<Figure size 432x288 with 1 Axes>"
      ]
     },
     "metadata": {
      "needs_background": "light"
     },
     "output_type": "display_data"
    }
   ],
   "source": [
    "y = datosEntrenamiento[:,0]\n",
    "x1 = datosEntrenamiento[:,1]\n",
    "x2 = datosEntrenamiento[:,2]\n",
    "x3 = datosEntrenamiento[:,3]\n",
    "x4 = datosEntrenamiento[:,4]\n",
    "nan_x5 = np.isnan(datosEntrenamiento[:,5])\n",
    "not_nan_x5 = ~nan_x5\n",
    "x5 = datosEntrenamiento[:,5][not_nan_x5]\n",
    "\n",
    "#Correlación\n",
    "\n",
    "corrcoef_x1_y = round(np.corrcoef(x1,y)[0, 1], 5)\n",
    "corrcoef_x2_y = round(np.corrcoef(x2,y)[0, 1], 5)\n",
    "corrcoef_x3_y = round(np.corrcoef(x3,y)[0, 1], 5)\n",
    "corrcoef_x4_y = round(np.corrcoef(x4,y)[0, 1], 5)\n",
    "y5 = datosEntrenamiento[:,0][not_nan_x5]\n",
    "corrcoef_x5_y = round(np.corrcoef(x5,y5)[0, 1],5)\n",
    "\n",
    "plt.scatter(x1, y)\n",
    "plt.title('Corr=' + str(corrcoef_x2_y))\n",
    "plt.xlabel('First Floor Square Foot')\n",
    "plt.ylabel('Sale Price - Thousands ($)')\n",
    "plt.show()"
   ]
  },
  {
   "cell_type": "code",
   "execution_count": 228,
   "metadata": {
    "colab": {},
    "colab_type": "code",
    "id": "5rmmxWODpngJ"
   },
   "outputs": [],
   "source": [
    "def ModeloLineal(x, y, EPOCHS, mostrar_modelo_cada, learning_rate):\n",
    "    tf.reset_default_graph()\n",
    "    \n",
    "    n = len(x)\n",
    "    y = np.array([y]).T\n",
    "    x = np.c_[x, np.ones((n,1))]\n",
    "    now = datetime.now()\n",
    "    \n",
    "    with tf.name_scope(\"definicion_parametros\"): \n",
    "        parametros = tf.get_variable(\"parametros\", dtype=tf.float32, shape=[2, 1], initializer=tf.ones_initializer())\n",
    "    \n",
    "    tensor_x = tf.placeholder(tf.float32,[n, 2],\"tensor_x\")\n",
    "    tensor_y = tf.placeholder(tf.float32,[n, 1],\"tensor_y\")\n",
    "\n",
    "    # hipotesis-modelo y = mx + b\n",
    "    with tf.name_scope(\"modelo\"):\n",
    "        prediccion = tf.matmul(tensor_x, parametros)\n",
    "    \n",
    "    with tf.name_scope(\"error\"):\n",
    "        error = 1/2 * tf.reduce_mean(tf.math.square(tensor_y - prediccion))\n",
    "        error_summary = tf.summary.scalar(\"error\", error)\n",
    "    \n",
    "    with tf.name_scope(\"gradiente\"):\n",
    "        gradiente = tf.gradients(error, [parametros])[0]\n",
    "        \n",
    "        \n",
    "    with tf.name_scope(\"actualizacion_parametros\"):\n",
    "        actualizacion_parametros = tf.assign(parametros, parametros - learning_rate * gradiente)\n",
    "        \n",
    "    init = tf.initialize_all_variables()\n",
    "    \n",
    "    # batch gradient descent\n",
    "    with tf.train.MonitoredSession() as session:\n",
    "        feed_dict = {tensor_x:x, tensor_y:y}\n",
    "        writer = tf.summary.FileWriter('./graphs/' + now.strftime(\"%d%m%Y_%H%M%S\") + \"_gradient_desc_lr=\" + str(learning_rate), session.graph)\n",
    "        session.run(init)\n",
    "        for i in range(EPOCHS + 1):\n",
    "            session.run(actualizacion_parametros,feed_dict=feed_dict)\n",
    "            error_val = session.run(error,feed_dict=feed_dict)\n",
    "            error_sum = session.run(error_summary,feed_dict=feed_dict)\n",
    "            writer.add_summary(error_sum, i)\n",
    "            session.run(gradiente, feed_dict=feed_dict)\n",
    "            if (i % mostrar_modelo_cada == 0):\n",
    "                print(\"Valores de m y b en iteración \", i, \":\")\n",
    "                print(session.run(parametros, feed_dict=feed_dict))\n",
    "                print(\"Error: \", error_val)\n",
    "                print(\"---------------------------------------------------------\")\n",
    "\n",
    "\n",
    "        writer.close()"
   ]
  },
  {
   "cell_type": "code",
   "execution_count": 229,
   "metadata": {
    "colab": {
     "base_uri": "https://localhost:8080/",
     "height": 656
    },
    "colab_type": "code",
    "id": "7esHi6N0w7Q-",
    "outputId": "15787e59-75ab-4081-a4c9-81cb295bc880",
    "scrolled": false
   },
   "outputs": [
    {
     "name": "stdout",
     "output_type": "stream",
     "text": [
      "INFO:tensorflow:Graph was finalized.\n",
      "INFO:tensorflow:Running local_init_op.\n",
      "INFO:tensorflow:Done running local_init_op.\n",
      "Valores de m y b en iteración  0 :\n",
      "[[8.999086 ]\n",
      " [2.2144246]]\n",
      "Error:  10027.438\n",
      "---------------------------------------------------------------------------------------\n",
      "Valores de m y b en iteración  1000 :\n",
      "[[ 33.99159 ]\n",
      " [-23.330387]]\n",
      "Error:  1276.6426\n",
      "---------------------------------------------------------------------------------------\n",
      "Valores de m y b en iteración  2000 :\n",
      "[[ 37.213795]\n",
      " [-43.966198]]\n",
      "Error:  1213.7662\n",
      "---------------------------------------------------------------------------------------\n",
      "Valores de m y b en iteración  3000 :\n",
      "[[ 39.526863]\n",
      " [-58.779694]]\n",
      "Error:  1181.3652\n",
      "---------------------------------------------------------------------------------------\n",
      "Valores de m y b en iteración  4000 :\n",
      "[[ 41.18731]\n",
      " [-69.41362]]\n",
      "Error:  1164.6686\n",
      "---------------------------------------------------------------------------------------\n",
      "Valores de m y b en iteración  5000 :\n",
      "[[ 42.37928 ]\n",
      " [-77.047264]]\n",
      "Error:  1156.0645\n",
      "---------------------------------------------------------------------------------------\n",
      "Valores de m y b en iteración  6000 :\n",
      "[[ 43.23493 ]\n",
      " [-82.527084]]\n",
      "Error:  1151.6305\n",
      "---------------------------------------------------------------------------------------\n",
      "Valores de m y b en iteración  7000 :\n",
      "[[ 43.84917]\n",
      " [-86.46084]]\n",
      "Error:  1149.3455\n",
      "---------------------------------------------------------------------------------------\n",
      "Valores de m y b en iteración  8000 :\n",
      "[[ 44.290108]\n",
      " [-89.2847  ]]\n",
      "Error:  1148.1681\n",
      "---------------------------------------------------------------------------------------\n",
      "Valores de m y b en iteración  9000 :\n",
      "[[ 44.60662]\n",
      " [-91.31174]]\n",
      "Error:  1147.5613\n",
      "---------------------------------------------------------------------------------------\n",
      "Valores de m y b en iteración  10000 :\n",
      "[[ 44.83384]\n",
      " [-92.76692]]\n",
      "Error:  1147.2488\n",
      "---------------------------------------------------------------------------------------\n"
     ]
    }
   ],
   "source": [
    "ModeloLineal(x1, y, 10000, 1000, 0.007)"
   ]
  },
  {
   "cell_type": "markdown",
   "metadata": {},
   "source": [
    "## Grafo\n",
    "\n",
    "<img src=\"https://raw.githubusercontent.com/gustavo-alvarado/tarea-gradient-descent/master/Imagenes/Grafo.PNG\"></img>\n"
   ]
  },
  {
   "cell_type": "markdown",
   "metadata": {},
   "source": [
    "## Escalar\n",
    "\n",
    "<img src=\"https://raw.githubusercontent.com/gustavo-alvarado/tarea-gradient-descent/master/Imagenes/Escalar.PNG\"></img>"
   ]
  }
 ],
 "metadata": {
  "colab": {
   "collapsed_sections": [],
   "name": "Tarea 2 - Gustavo Alvarado.ipynb",
   "provenance": []
  },
  "kernelspec": {
   "display_name": "Python 3",
   "language": "python",
   "name": "python3"
  },
  "language_info": {
   "codemirror_mode": {
    "name": "ipython",
    "version": 3
   },
   "file_extension": ".py",
   "mimetype": "text/x-python",
   "name": "python",
   "nbconvert_exporter": "python",
   "pygments_lexer": "ipython3",
   "version": "3.7.4"
  }
 },
 "nbformat": 4,
 "nbformat_minor": 1
}
